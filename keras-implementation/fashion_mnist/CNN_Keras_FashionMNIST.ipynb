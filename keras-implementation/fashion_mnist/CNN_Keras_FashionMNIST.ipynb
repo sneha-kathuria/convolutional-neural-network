{
 "cells": [
  {
   "cell_type": "code",
   "execution_count": 14,
   "metadata": {
    "collapsed": true
   },
   "outputs": [],
   "source": [
    "# import sys\n",
    "# !{sys.executable} -m pip install tensorflow"
   ]
  },
  {
   "cell_type": "code",
   "execution_count": 81,
   "metadata": {
    "collapsed": true
   },
   "outputs": [],
   "source": [
    "from keras.datasets import fashion_mnist\n",
    "import numpy as np\n",
    "from keras.utils import to_categorical\n",
    "import matplotlib.pyplot as plt\n",
    "from sklearn.model_selection import train_test_split\n",
    "%matplotlib inline"
   ]
  },
  {
   "cell_type": "code",
   "execution_count": 71,
   "metadata": {},
   "outputs": [
    {
     "name": "stdout",
     "output_type": "stream",
     "text": [
      "Training set shape (60000, 28, 28) (60000,)\n",
      "Testing set shape (10000, 28, 28) (10000,)\n"
     ]
    }
   ],
   "source": [
    "# Load the train and test set\n",
    "(train_X,train_y), (test_X,test_y) = fashion_mnist.load_data()\n",
    "print('Training set shape', train_X.shape, train_y.shape)\n",
    "print('Testing set shape', test_X.shape, test_y.shape)"
   ]
  },
  {
   "cell_type": "markdown",
   "metadata": {},
   "source": [
    "* Training set contains 60000 X 28 X 28 (60,000 images of size 28 X 28). This are all blackwhite images\n",
    "* Testing set contains 10000 X 28 X 28 (10,000 images of size 28 X 28)."
   ]
  },
  {
   "cell_type": "code",
   "execution_count": 72,
   "metadata": {
    "collapsed": true
   },
   "outputs": [],
   "source": [
    "# Finding the information regarding the labels\n",
    "classes = np.unique(train_y)"
   ]
  },
  {
   "cell_type": "code",
   "execution_count": 73,
   "metadata": {},
   "outputs": [
    {
     "data": {
      "text/plain": [
       "array([0, 1, 2, 3, 4, 5, 6, 7, 8, 9], dtype=uint8)"
      ]
     },
     "execution_count": 73,
     "metadata": {},
     "output_type": "execute_result"
    }
   ],
   "source": [
    "classes"
   ]
  },
  {
   "cell_type": "markdown",
   "metadata": {},
   "source": [
    "There are 10 classes. Checking how the train_X looks like"
   ]
  },
  {
   "cell_type": "code",
   "execution_count": 74,
   "metadata": {},
   "outputs": [
    {
     "data": {
      "text/plain": [
       "Text(0.5,1,'2')"
      ]
     },
     "execution_count": 74,
     "metadata": {},
     "output_type": "execute_result"
    },
    {
     "data": {
      "image/png": "[encoded data removed]",
      "text/plain": [
       "<matplotlib.figure.Figure at 0x181b08cf98>"
      ]
     },
     "metadata": {},
     "output_type": "display_data"
    }
   ],
   "source": [
    "plt.figure(figsize=[4,4])\n",
    "plt.subplot(122)\n",
    "plt.imshow(train_X[25,:,:], cmap='gray')\n",
    "# print label\n",
    "plt.title(train_y[25])\n",
    "\n",
    "plt.subplot(121)\n",
    "plt.imshow(train_X[5,:,:], cmap='gray')\n",
    "# print label\n",
    "plt.title(train_y[5])"
   ]
  },
  {
   "cell_type": "markdown",
   "metadata": {},
   "source": [
    "In order to feed the images into the model, we need to convert 28 X 28 into a 3D tensor of shape (sample, height, width, channel). Also, we need to standardize the data to be in 0,1 range.\n",
    "\n",
    "Also, since the data in the int8 format, we need to change it to float32 format"
   ]
  },
  {
   "cell_type": "code",
   "execution_count": 118,
   "metadata": {
    "collapsed": true
   },
   "outputs": [],
   "source": [
    "def tensor3D(data, no_samples, height, width, channel):\n",
    "    '''\n",
    "    Input Params\n",
    "    data: train set / test set\n",
    "    no_sample: number of records or images the dataset has\n",
    "    height: height of the image\n",
    "    width: width of the image\n",
    "    channel: number of channels (1,2,3)\n",
    "    \n",
    "    Output Params\n",
    "    data_tensor: data in tensor format and scaled between 0 and 1\n",
    "    '''\n",
    "    data = data.reshape(no_samples, height, width, channel)\n",
    "    data = data.astype('float32')\n",
    "    data_tensor = data / 255\n",
    "    return data_tensor"
   ]
  },
  {
   "cell_type": "code",
   "execution_count": 120,
   "metadata": {},
   "outputs": [
    {
     "ename": "ValueError",
     "evalue": "cannot reshape array of size 37632000 into shape (60000,28,28,1)",
     "output_type": "error",
     "traceback": [
      "\u001b[0;31m---------------------------------------------------------------------------\u001b[0m",
      "\u001b[0;31mValueError\u001b[0m                                Traceback (most recent call last)",
      "\u001b[0;32m<ipython-input-120-7d4aa8175184>\u001b[0m in \u001b[0;36m<module>\u001b[0;34m()\u001b[0m\n\u001b[0;32m----> 1\u001b[0;31m \u001b[0mtrain_X\u001b[0m \u001b[0;34m=\u001b[0m \u001b[0mtensor3D\u001b[0m\u001b[0;34m(\u001b[0m\u001b[0mtrain_X\u001b[0m\u001b[0;34m,\u001b[0m \u001b[0;36m60000\u001b[0m\u001b[0;34m,\u001b[0m\u001b[0;36m28\u001b[0m\u001b[0;34m,\u001b[0m\u001b[0;36m28\u001b[0m\u001b[0;34m,\u001b[0m\u001b[0;36m1\u001b[0m\u001b[0;34m)\u001b[0m\u001b[0;34m\u001b[0m\u001b[0m\n\u001b[0m\u001b[1;32m      2\u001b[0m \u001b[0mtest_X\u001b[0m \u001b[0;34m=\u001b[0m \u001b[0mtensor3D\u001b[0m\u001b[0;34m(\u001b[0m\u001b[0mtest_X\u001b[0m\u001b[0;34m,\u001b[0m \u001b[0;36m10000\u001b[0m\u001b[0;34m,\u001b[0m\u001b[0;36m28\u001b[0m\u001b[0;34m,\u001b[0m\u001b[0;36m28\u001b[0m\u001b[0;34m,\u001b[0m\u001b[0;36m1\u001b[0m\u001b[0;34m)\u001b[0m\u001b[0;34m\u001b[0m\u001b[0m\n",
      "\u001b[0;32m<ipython-input-118-9b706974efdb>\u001b[0m in \u001b[0;36mtensor3D\u001b[0;34m(data, no_samples, height, width, channel)\u001b[0m\n\u001b[1;32m     11\u001b[0m     \u001b[0mdata_tensor\u001b[0m\u001b[0;34m:\u001b[0m \u001b[0mdata\u001b[0m \u001b[0;32min\u001b[0m \u001b[0mtensor\u001b[0m \u001b[0mformat\u001b[0m \u001b[0;32mand\u001b[0m \u001b[0mscaled\u001b[0m \u001b[0mbetween\u001b[0m \u001b[0;36m0\u001b[0m \u001b[0;32mand\u001b[0m \u001b[0;36m1\u001b[0m\u001b[0;34m\u001b[0m\u001b[0m\n\u001b[1;32m     12\u001b[0m     '''\n\u001b[0;32m---> 13\u001b[0;31m     \u001b[0mdata\u001b[0m \u001b[0;34m=\u001b[0m \u001b[0mdata\u001b[0m\u001b[0;34m.\u001b[0m\u001b[0mreshape\u001b[0m\u001b[0;34m(\u001b[0m\u001b[0mno_samples\u001b[0m\u001b[0;34m,\u001b[0m \u001b[0mheight\u001b[0m\u001b[0;34m,\u001b[0m \u001b[0mwidth\u001b[0m\u001b[0;34m,\u001b[0m \u001b[0mchannel\u001b[0m\u001b[0;34m)\u001b[0m\u001b[0;34m\u001b[0m\u001b[0m\n\u001b[0m\u001b[1;32m     14\u001b[0m     \u001b[0mdata\u001b[0m \u001b[0;34m=\u001b[0m \u001b[0mdata\u001b[0m\u001b[0;34m.\u001b[0m\u001b[0mastype\u001b[0m\u001b[0;34m(\u001b[0m\u001b[0;34m'float32'\u001b[0m\u001b[0;34m)\u001b[0m\u001b[0;34m\u001b[0m\u001b[0m\n\u001b[1;32m     15\u001b[0m     \u001b[0mdata_tensor\u001b[0m \u001b[0;34m=\u001b[0m \u001b[0mdata\u001b[0m \u001b[0;34m/\u001b[0m \u001b[0;36m255\u001b[0m\u001b[0;34m\u001b[0m\u001b[0m\n",
      "\u001b[0;31mValueError\u001b[0m: cannot reshape array of size 37632000 into shape (60000,28,28,1)"
     ]
    }
   ],
   "source": [
    "train_X = tensor3D(train_X, 60000,28,28,1)\n",
    "test_X = tensor3D(test_X, 10000,28,28,1)"
   ]
  },
  {
   "cell_type": "code",
   "execution_count": 76,
   "metadata": {},
   "outputs": [
    {
     "data": {
      "text/plain": [
       "((60000, 28, 28, 1), (10000, 28, 28, 1))"
      ]
     },
     "execution_count": 76,
     "metadata": {},
     "output_type": "execute_result"
    }
   ],
   "source": [
    "train_X.shape, test_X.shape"
   ]
  },
  {
   "cell_type": "markdown",
   "metadata": {},
   "source": [
    "Now we convert y labels into one-hot encodings. Per this, we create a vector of 10 elements. 10 refers here the number of classes. So for a label of class 2, the representation would be [0,0,1,0,0,0,0,0,0,0]. This is done to support the machine learning algos."
   ]
  },
  {
   "cell_type": "code",
   "execution_count": 77,
   "metadata": {
    "collapsed": true
   },
   "outputs": [],
   "source": [
    "train_y_onehot = to_categorical(train_y)\n",
    "test_y_onehot = to_categorical(test_y)"
   ]
  },
  {
   "cell_type": "code",
   "execution_count": 80,
   "metadata": {},
   "outputs": [
    {
     "name": "stdout",
     "output_type": "stream",
     "text": [
      "Initial 2\n",
      "After one hot encoding [0. 0. 1. 0. 0. 0. 0. 0. 0. 0.]\n"
     ]
    }
   ],
   "source": [
    "# Seeing how the labels have changes\n",
    "print('Initial', train_y[7])\n",
    "print('After one hot encoding', train_y_onehot[7])"
   ]
  },
  {
   "cell_type": "code",
   "execution_count": 82,
   "metadata": {},
   "outputs": [
    {
     "data": {
      "text/plain": [
       "((48000, 28, 28, 1), (12000, 28, 28, 1))"
      ]
     },
     "execution_count": 82,
     "metadata": {},
     "output_type": "execute_result"
    }
   ],
   "source": [
    "# Dividing the train dataset into train, validation\n",
    "train_X, valid_X, train_label, valid_label = train_test_split(train_X, train_y_onehot, \\\n",
    "                                                              test_size=0.2, random_state=1222)\n",
    "train_X.shape, valid_X.shape"
   ]
  },
  {
   "cell_type": "markdown",
   "metadata": {},
   "source": [
    "### Model Architecture\n",
    "\n",
    "Input size: 28 X 28 X 1\n",
    "\n",
    "* First Layer\n",
    "    * We use 32 3X3 filters(kernels)\n",
    "    * To regularize, we use Max pooling 2X2\n",
    "* Second Layer\n",
    "    * We use 64 3X3 filters(kernels)\n",
    "    * To regularize, we use Max pooling 2X2\n",
    "* Third Layer\n",
    "    * We use 128 3X3 filters(kernels)\n",
    "    * To regularize, we use Max pooling 2X2\n",
    "    \n",
    "* Flattening process\n",
    "* Dense layer of 128 units\n",
    "* Output layer 10 units"
   ]
  },
  {
   "cell_type": "code",
   "execution_count": 83,
   "metadata": {
    "collapsed": true
   },
   "outputs": [],
   "source": [
    "# Model Developement\n",
    "import keras\n",
    "from keras.models import Sequential,Input,Model\n",
    "from keras.layers import Dense, Dropout, Flatten\n",
    "from keras.layers import Conv2D, MaxPooling2D\n",
    "from keras.layers.normalization import BatchNormalization\n",
    "from keras.layers.advanced_activations import LeakyReLU"
   ]
  },
  {
   "cell_type": "markdown",
   "metadata": {},
   "source": [
    "We will use a batch size of 64. Batch size in which size groups should be feed the data into the model. Epoch defines the number of passes of the data. We keep that value to be 20"
   ]
  },
  {
   "cell_type": "code",
   "execution_count": 92,
   "metadata": {
    "collapsed": true
   },
   "outputs": [],
   "source": [
    "batch_size = 64\n",
    "epochs = 20\n",
    "no_classes = 10"
   ]
  },
  {
   "cell_type": "code",
   "execution_count": 86,
   "metadata": {
    "collapsed": true
   },
   "outputs": [],
   "source": [
    "model = Sequential()\n",
    "# first layer\n",
    "model.add(Conv2D(32, kernel_size=(3,3), activation='linear', input_shape=(28,28,1), padding='same'))\n",
    "model.add(LeakyReLU(alpha=0.1))\n",
    "model.add(MaxPooling2D((2,2), padding='same'))\n",
    "# second layer\n",
    "model.add(Conv2D(64, kernel_size=(3,3), activation='linear', padding='same'))\n",
    "model.add(LeakyReLU(alpha=0.1))\n",
    "model.add(MaxPooling2D((2,2), padding='same'))\n",
    "# third layer\n",
    "model.add(Conv2D(128, kernel_size=(3,3), activation='linear', padding='same'))\n",
    "model.add(LeakyReLU(alpha=0.1))\n",
    "model.add(MaxPooling2D((2,2), padding='same'))\n",
    "# flatten\n",
    "model.add(Flatten())\n",
    "# Dense layer\n",
    "model.add(Dense(128, activation='linear'))\n",
    "model.add(LeakyReLU(alpha=0.1))\n",
    "model.add(Dense(no_classes, activation='softmax'))"
   ]
  },
  {
   "cell_type": "code",
   "execution_count": 97,
   "metadata": {
    "collapsed": true
   },
   "outputs": [],
   "source": [
    "# Model compilation\n",
    "model.compile(loss=keras.losses.categorical_crossentropy, optimizer=keras.optimizers.Adam(), metrics=['accuracy'])"
   ]
  },
  {
   "cell_type": "code",
   "execution_count": 98,
   "metadata": {},
   "outputs": [
    {
     "name": "stdout",
     "output_type": "stream",
     "text": [
      "_________________________________________________________________\n",
      "Layer (type)                 Output Shape              Param #   \n",
      "=================================================================\n",
      "conv2d_2 (Conv2D)            (None, 28, 28, 32)        320       \n",
      "_________________________________________________________________\n",
      "leaky_re_lu_2 (LeakyReLU)    (None, 28, 28, 32)        0         \n",
      "_________________________________________________________________\n",
      "max_pooling2d_2 (MaxPooling2 (None, 14, 14, 32)        0         \n",
      "_________________________________________________________________\n",
      "conv2d_3 (Conv2D)            (None, 14, 14, 64)        18496     \n",
      "_________________________________________________________________\n",
      "leaky_re_lu_3 (LeakyReLU)    (None, 14, 14, 64)        0         \n",
      "_________________________________________________________________\n",
      "max_pooling2d_3 (MaxPooling2 (None, 7, 7, 64)          0         \n",
      "_________________________________________________________________\n",
      "conv2d_4 (Conv2D)            (None, 7, 7, 128)         73856     \n",
      "_________________________________________________________________\n",
      "leaky_re_lu_4 (LeakyReLU)    (None, 7, 7, 128)         0         \n",
      "_________________________________________________________________\n",
      "max_pooling2d_4 (MaxPooling2 (None, 4, 4, 128)         0         \n",
      "_________________________________________________________________\n",
      "flatten_1 (Flatten)          (None, 2048)              0         \n",
      "_________________________________________________________________\n",
      "dense_1 (Dense)              (None, 128)               262272    \n",
      "_________________________________________________________________\n",
      "leaky_re_lu_5 (LeakyReLU)    (None, 128)               0         \n",
      "_________________________________________________________________\n",
      "dense_2 (Dense)              (None, 10)                1290      \n",
      "=================================================================\n",
      "Total params: 356,234\n",
      "Trainable params: 356,234\n",
      "Non-trainable params: 0\n",
      "_________________________________________________________________\n"
     ]
    }
   ],
   "source": [
    "model.summary()"
   ]
  },
  {
   "cell_type": "code",
   "execution_count": 99,
   "metadata": {},
   "outputs": [
    {
     "name": "stdout",
     "output_type": "stream",
     "text": [
      "Train on 48000 samples, validate on 12000 samples\n",
      "Epoch 1/20\n",
      "48000/48000 [==============================] - 122s 3ms/step - loss: 0.4671 - acc: 0.8281 - val_loss: 0.3304 - val_acc: 0.8781\n",
      "Epoch 2/20\n",
      "48000/48000 [==============================] - 111s 2ms/step - loss: 0.2912 - acc: 0.8949 - val_loss: 0.2638 - val_acc: 0.9042\n",
      "Epoch 3/20\n",
      "48000/48000 [==============================] - 107s 2ms/step - loss: 0.2431 - acc: 0.9113 - val_loss: 0.2452 - val_acc: 0.9107\n",
      "Epoch 4/20\n",
      "48000/48000 [==============================] - 182s 4ms/step - loss: 0.2094 - acc: 0.9226 - val_loss: 0.2368 - val_acc: 0.9162\n",
      "Epoch 5/20\n",
      "48000/48000 [==============================] - 10877s 227ms/step - loss: 0.1824 - acc: 0.9320 - val_loss: 0.2346 - val_acc: 0.9166\n",
      "Epoch 6/20\n",
      "48000/48000 [==============================] - 8135s 169ms/step - loss: 0.1624 - acc: 0.9401 - val_loss: 0.2334 - val_acc: 0.9179\n",
      "Epoch 7/20\n",
      "48000/48000 [==============================] - 108s 2ms/step - loss: 0.1380 - acc: 0.9485 - val_loss: 0.2290 - val_acc: 0.9197\n",
      "Epoch 8/20\n",
      "48000/48000 [==============================] - 7358s 153ms/step - loss: 0.1200 - acc: 0.9551 - val_loss: 0.2328 - val_acc: 0.9213\n",
      "Epoch 9/20\n",
      "48000/48000 [==============================] - 110s 2ms/step - loss: 0.1026 - acc: 0.9614 - val_loss: 0.2502 - val_acc: 0.9217\n",
      "Epoch 10/20\n",
      "48000/48000 [==============================] - 9221s 192ms/step - loss: 0.0858 - acc: 0.9684 - val_loss: 0.2630 - val_acc: 0.9232\n",
      "Epoch 11/20\n",
      "48000/48000 [==============================] - 22589s 471ms/step - loss: 0.0752 - acc: 0.9719 - val_loss: 0.2974 - val_acc: 0.9215\n",
      "Epoch 12/20\n",
      "48000/48000 [==============================] - 1243s 26ms/step - loss: 0.0638 - acc: 0.9759 - val_loss: 0.3040 - val_acc: 0.9214\n",
      "Epoch 13/20\n",
      "48000/48000 [==============================] - 121s 3ms/step - loss: 0.0585 - acc: 0.9788 - val_loss: 0.3324 - val_acc: 0.9227\n",
      "Epoch 14/20\n",
      "48000/48000 [==============================] - 115s 2ms/step - loss: 0.0530 - acc: 0.9799 - val_loss: 0.3545 - val_acc: 0.9136\n",
      "Epoch 15/20\n",
      "48000/48000 [==============================] - 127s 3ms/step - loss: 0.0420 - acc: 0.9845 - val_loss: 0.3461 - val_acc: 0.9220\n",
      "Epoch 16/20\n",
      "48000/48000 [==============================] - 114s 2ms/step - loss: 0.0402 - acc: 0.9844 - val_loss: 0.3641 - val_acc: 0.9223\n",
      "Epoch 17/20\n",
      "48000/48000 [==============================] - 115s 2ms/step - loss: 0.0350 - acc: 0.9868 - val_loss: 0.3936 - val_acc: 0.9205\n",
      "Epoch 18/20\n",
      "48000/48000 [==============================] - 112s 2ms/step - loss: 0.0341 - acc: 0.9873 - val_loss: 0.4166 - val_acc: 0.9164\n",
      "Epoch 19/20\n",
      "48000/48000 [==============================] - 111s 2ms/step - loss: 0.0333 - acc: 0.9878 - val_loss: 0.4134 - val_acc: 0.9207\n",
      "Epoch 20/20\n",
      "48000/48000 [==============================] - 103s 2ms/step - loss: 0.0288 - acc: 0.9896 - val_loss: 0.4699 - val_acc: 0.9177\n"
     ]
    }
   ],
   "source": [
    "model_train = model.fit(train_X, train_label, \\\n",
    "                        batch_size=batch_size, epochs=epochs, \\\n",
    "                        verbose=1, validation_data=(valid_X, valid_label))"
   ]
  },
  {
   "cell_type": "markdown",
   "metadata": {},
   "source": [
    "Here this is the case of overfitting since the model's training accuracy is 98.96% while its validation accuracy is 91.77%.\n",
    "\n",
    "- Let us see how the model performs on the test set, too."
   ]
  },
  {
   "cell_type": "code",
   "execution_count": 100,
   "metadata": {},
   "outputs": [
    {
     "name": "stdout",
     "output_type": "stream",
     "text": [
      "10000/10000 [==============================] - 6s 614us/step\n"
     ]
    }
   ],
   "source": [
    "test_eval = model.evaluate(test_X, test_y_onehot)"
   ]
  },
  {
   "cell_type": "code",
   "execution_count": 102,
   "metadata": {},
   "outputs": [
    {
     "name": "stdout",
     "output_type": "stream",
     "text": [
      "Test Loss 0.49756758985807537\n",
      "Test Acc 0.9176\n"
     ]
    }
   ],
   "source": [
    "print('Test Loss', test_eval[0])\n",
    "print('Test Acc', test_eval[1])"
   ]
  },
  {
   "cell_type": "code",
   "execution_count": 108,
   "metadata": {
    "collapsed": true
   },
   "outputs": [],
   "source": [
    "train_acc, train_loss, valid_acc, valid_loss = model_train.history['acc'], model_train.history['loss'], model_train.history['val_acc'], model_train.history['val_loss']\n",
    "epoch_pass = range(epochs)"
   ]
  },
  {
   "cell_type": "code",
   "execution_count": 126,
   "metadata": {},
   "outputs": [
    {
     "data": {
      "image/png": "[encoded data removed]",
      "text/plain": [
       "<matplotlib.figure.Figure at 0x1838649400>"
      ]
     },
     "metadata": {},
     "output_type": "display_data"
    }
   ],
   "source": [
    "plt.plot(epoch_pass, train_acc, label='Training Accuracy')\n",
    "plt.plot(epoch_pass, valid_acc, label='Validation Accuracy')\n",
    "plt.title('Training vs. Validation Accuracy')\n",
    "plt.legend()\n",
    "plt.show()"
   ]
  },
  {
   "cell_type": "code",
   "execution_count": 125,
   "metadata": {},
   "outputs": [
    {
     "data": {
      "image/png": "[encoded data removed]",
      "text/plain": [
       "<matplotlib.figure.Figure at 0x181b7a4358>"
      ]
     },
     "metadata": {},
     "output_type": "display_data"
    }
   ],
   "source": [
    "plt.plot(epoch_pass, train_loss, label='Training Loss')\n",
    "plt.plot(epoch_pass, valid_loss, label='Validation Loss')\n",
    "plt.title('Training vs. Validation Loss')\n",
    "plt.legend()\n",
    "plt.show()"
   ]
  },
  {
   "cell_type": "markdown",
   "metadata": {},
   "source": [
    "We notice that after 4-5 epochs, the validation accuracy becomes stagnant and the validation loss also has become worse. It seems that model has learnt the training set.\n",
    "\n",
    "### Dropout Layer\n",
    "\n",
    "Dropout layer will help us curb the problem of overfittng by removing a fraction of neurons from the training process. This will refrain the model from learning the patterns since different nuerons are active in each epoch. Changing the model architecture."
   ]
  },
  {
   "cell_type": "code",
   "execution_count": 127,
   "metadata": {
    "collapsed": true
   },
   "outputs": [],
   "source": [
    "model = Sequential()\n",
    "# first layer\n",
    "model.add(Conv2D(32, kernel_size=(3,3), activation='linear', input_shape=(28,28,1), padding='same'))\n",
    "model.add(LeakyReLU(alpha=0.1))\n",
    "model.add(MaxPooling2D((2,2), padding='same'))\n",
    "model.add(Dropout(0.25))\n",
    "# second layer\n",
    "model.add(Conv2D(64, kernel_size=(3,3), activation='linear', padding='same'))\n",
    "model.add(LeakyReLU(alpha=0.1))\n",
    "model.add(MaxPooling2D((2,2), padding='same'))\n",
    "model.add(Dropout(0.25))\n",
    "# third layer\n",
    "model.add(Conv2D(128, kernel_size=(3,3), activation='linear', padding='same'))\n",
    "model.add(LeakyReLU(alpha=0.1))\n",
    "model.add(MaxPooling2D((2,2), padding='same'))\n",
    "model.add(Dropout(0.40))\n",
    "# flatten\n",
    "model.add(Flatten())\n",
    "# Dense layer\n",
    "model.add(Dense(128, activation='linear'))\n",
    "model.add(LeakyReLU(alpha=0.1))\n",
    "model.add(Dropout(0.4))\n",
    "model.add(Dense(no_classes, activation='softmax'))"
   ]
  },
  {
   "cell_type": "code",
   "execution_count": 128,
   "metadata": {},
   "outputs": [
    {
     "name": "stdout",
     "output_type": "stream",
     "text": [
      "_________________________________________________________________\n",
      "Layer (type)                 Output Shape              Param #   \n",
      "=================================================================\n",
      "conv2d_5 (Conv2D)            (None, 28, 28, 32)        320       \n",
      "_________________________________________________________________\n",
      "leaky_re_lu_6 (LeakyReLU)    (None, 28, 28, 32)        0         \n",
      "_________________________________________________________________\n",
      "max_pooling2d_5 (MaxPooling2 (None, 14, 14, 32)        0         \n",
      "_________________________________________________________________\n",
      "dropout_1 (Dropout)          (None, 14, 14, 32)        0         \n",
      "_________________________________________________________________\n",
      "conv2d_6 (Conv2D)            (None, 14, 14, 64)        18496     \n",
      "_________________________________________________________________\n",
      "leaky_re_lu_7 (LeakyReLU)    (None, 14, 14, 64)        0         \n",
      "_________________________________________________________________\n",
      "max_pooling2d_6 (MaxPooling2 (None, 7, 7, 64)          0         \n",
      "_________________________________________________________________\n",
      "dropout_2 (Dropout)          (None, 7, 7, 64)          0         \n",
      "_________________________________________________________________\n",
      "conv2d_7 (Conv2D)            (None, 7, 7, 128)         73856     \n",
      "_________________________________________________________________\n",
      "leaky_re_lu_8 (LeakyReLU)    (None, 7, 7, 128)         0         \n",
      "_________________________________________________________________\n",
      "max_pooling2d_7 (MaxPooling2 (None, 4, 4, 128)         0         \n",
      "_________________________________________________________________\n",
      "dropout_3 (Dropout)          (None, 4, 4, 128)         0         \n",
      "_________________________________________________________________\n",
      "flatten_2 (Flatten)          (None, 2048)              0         \n",
      "_________________________________________________________________\n",
      "dense_3 (Dense)              (None, 128)               262272    \n",
      "_________________________________________________________________\n",
      "leaky_re_lu_9 (LeakyReLU)    (None, 128)               0         \n",
      "_________________________________________________________________\n",
      "dropout_4 (Dropout)          (None, 128)               0         \n",
      "_________________________________________________________________\n",
      "dense_4 (Dense)              (None, 10)                1290      \n",
      "=================================================================\n",
      "Total params: 356,234\n",
      "Trainable params: 356,234\n",
      "Non-trainable params: 0\n",
      "_________________________________________________________________\n"
     ]
    }
   ],
   "source": [
    "model.summary()"
   ]
  },
  {
   "cell_type": "code",
   "execution_count": 129,
   "metadata": {
    "collapsed": true
   },
   "outputs": [],
   "source": [
    "# Model compilation\n",
    "model.compile(loss=keras.losses.categorical_crossentropy, optimizer=keras.optimizers.Adam(), metrics=['accuracy'])"
   ]
  },
  {
   "cell_type": "code",
   "execution_count": 130,
   "metadata": {},
   "outputs": [
    {
     "name": "stdout",
     "output_type": "stream",
     "text": [
      "Train on 48000 samples, validate on 12000 samples\n",
      "Epoch 1/20\n",
      "48000/48000 [==============================] - 123s 3ms/step - loss: 0.6201 - acc: 0.7705 - val_loss: 0.3772 - val_acc: 0.8634\n",
      "Epoch 2/20\n",
      "48000/48000 [==============================] - 108s 2ms/step - loss: 0.3849 - acc: 0.8622 - val_loss: 0.3085 - val_acc: 0.8888\n",
      "Epoch 3/20\n",
      "48000/48000 [==============================] - 106s 2ms/step - loss: 0.3343 - acc: 0.8769 - val_loss: 0.2806 - val_acc: 0.8928\n",
      "Epoch 4/20\n",
      "48000/48000 [==============================] - 242s 5ms/step - loss: 0.3057 - acc: 0.8880 - val_loss: 0.2514 - val_acc: 0.9085\n",
      "Epoch 5/20\n",
      "48000/48000 [==============================] - 412s 9ms/step - loss: 0.2882 - acc: 0.8936 - val_loss: 0.2521 - val_acc: 0.9052\n",
      "Epoch 6/20\n",
      "48000/48000 [==============================] - 118s 2ms/step - loss: 0.2744 - acc: 0.8984 - val_loss: 0.2315 - val_acc: 0.9141\n",
      "Epoch 7/20\n",
      "48000/48000 [==============================] - 257s 5ms/step - loss: 0.2640 - acc: 0.9016 - val_loss: 0.2288 - val_acc: 0.9152\n",
      "Epoch 8/20\n",
      "48000/48000 [==============================] - 120s 2ms/step - loss: 0.2549 - acc: 0.9036 - val_loss: 0.2198 - val_acc: 0.9201\n",
      "Epoch 9/20\n",
      "48000/48000 [==============================] - 118s 2ms/step - loss: 0.2474 - acc: 0.9081 - val_loss: 0.2286 - val_acc: 0.9163\n",
      "Epoch 10/20\n",
      "48000/48000 [==============================] - 7145s 149ms/step - loss: 0.2451 - acc: 0.9093 - val_loss: 0.2200 - val_acc: 0.9202\n",
      "Epoch 11/20\n",
      "48000/48000 [==============================] - 120s 2ms/step - loss: 0.2379 - acc: 0.9108 - val_loss: 0.2156 - val_acc: 0.9211\n",
      "Epoch 12/20\n",
      "48000/48000 [==============================] - 127s 3ms/step - loss: 0.2325 - acc: 0.9120 - val_loss: 0.2090 - val_acc: 0.9247\n",
      "Epoch 13/20\n",
      "48000/48000 [==============================] - 126s 3ms/step - loss: 0.2314 - acc: 0.9132 - val_loss: 0.2200 - val_acc: 0.9177\n",
      "Epoch 14/20\n",
      "48000/48000 [==============================] - 122s 3ms/step - loss: 0.2262 - acc: 0.9152 - val_loss: 0.2085 - val_acc: 0.9227\n",
      "Epoch 15/20\n",
      "48000/48000 [==============================] - 126s 3ms/step - loss: 0.2235 - acc: 0.9165 - val_loss: 0.2433 - val_acc: 0.9113\n",
      "Epoch 16/20\n",
      "48000/48000 [==============================] - 127s 3ms/step - loss: 0.2208 - acc: 0.9184 - val_loss: 0.2087 - val_acc: 0.9250\n",
      "Epoch 17/20\n",
      "48000/48000 [==============================] - 153s 3ms/step - loss: 0.2175 - acc: 0.9191 - val_loss: 0.2048 - val_acc: 0.9251\n",
      "Epoch 18/20\n",
      "48000/48000 [==============================] - 142s 3ms/step - loss: 0.2111 - acc: 0.9204 - val_loss: 0.2116 - val_acc: 0.9205\n",
      "Epoch 19/20\n",
      "48000/48000 [==============================] - 121s 3ms/step - loss: 0.2104 - acc: 0.9211 - val_loss: 0.2099 - val_acc: 0.9245\n",
      "Epoch 20/20\n",
      "48000/48000 [==============================] - 115s 2ms/step - loss: 0.2099 - acc: 0.9213 - val_loss: 0.1956 - val_acc: 0.9271\n"
     ]
    }
   ],
   "source": [
    "model_train = model.fit(train_X, train_label, \\\n",
    "                        batch_size=batch_size, epochs=epochs, \\\n",
    "                        verbose=1, validation_data=(valid_X, valid_label))"
   ]
  },
  {
   "cell_type": "code",
   "execution_count": 131,
   "metadata": {
    "collapsed": true
   },
   "outputs": [],
   "source": [
    "model.save('fashion_mnish.h5')"
   ]
  },
  {
   "cell_type": "code",
   "execution_count": 133,
   "metadata": {},
   "outputs": [
    {
     "name": "stdout",
     "output_type": "stream",
     "text": [
      "10000/10000 [==============================] - 8s 784us/step\n"
     ]
    }
   ],
   "source": [
    "test_eval = model.evaluate(test_X, test_y_onehot, verbose=1)"
   ]
  },
  {
   "cell_type": "code",
   "execution_count": 134,
   "metadata": {},
   "outputs": [
    {
     "name": "stdout",
     "output_type": "stream",
     "text": [
      "Test Loss 0.2168282817900181\n"
     ]
    }
   ],
   "source": [
    "print('Test Loss', test_eval[0])"
   ]
  },
  {
   "cell_type": "code",
   "execution_count": 135,
   "metadata": {},
   "outputs": [
    {
     "name": "stdout",
     "output_type": "stream",
     "text": [
      "Test Accuracy 0.9179\n"
     ]
    }
   ],
   "source": [
    "print('Test Accuracy', test_eval[1])"
   ]
  },
  {
   "cell_type": "markdown",
   "metadata": {},
   "source": [
    "Not much improvement on the accuracy but we a good improvement on the test loss. Also, looking at the training and validation loss and accuracy."
   ]
  },
  {
   "cell_type": "code",
   "execution_count": 137,
   "metadata": {
    "collapsed": true
   },
   "outputs": [],
   "source": [
    "train_acc, train_loss, valid_acc, valid_loss = model_train.history['acc'], model_train.history['loss'], model_train.history['val_acc'], model_train.history['val_loss']\n",
    "epoch_pass = range(epochs)"
   ]
  },
  {
   "cell_type": "code",
   "execution_count": 138,
   "metadata": {},
   "outputs": [
    {
     "data": {
      "image/png": "[encoded data removed]",
      "text/plain": [
       "<matplotlib.figure.Figure at 0x181b858630>"
      ]
     },
     "metadata": {},
     "output_type": "display_data"
    }
   ],
   "source": [
    "plt.plot(epoch_pass, train_acc, label='Training Accuracy')\n",
    "plt.plot(epoch_pass, valid_acc, label='Validation Accuracy')\n",
    "plt.title('Training vs. Validation Accuracy')\n",
    "plt.legend()\n",
    "plt.show()"
   ]
  },
  {
   "cell_type": "code",
   "execution_count": 139,
   "metadata": {},
   "outputs": [
    {
     "data": {
      "image/png": "[encoded data removed]",
      "text/plain": [
       "<matplotlib.figure.Figure at 0x181b75bda0>"
      ]
     },
     "metadata": {},
     "output_type": "display_data"
    }
   ],
   "source": [
    "plt.plot(epoch_pass, train_loss, label='Training Loss')\n",
    "plt.plot(epoch_pass, valid_loss, label='Validation Loss')\n",
    "plt.title('Training vs. Validation Loss')\n",
    "plt.legend()\n",
    "plt.show()"
   ]
  },
  {
   "cell_type": "code",
   "execution_count": 140,
   "metadata": {
    "collapsed": true
   },
   "outputs": [],
   "source": [
    "pred_labels = model.predict(test_X)"
   ]
  },
  {
   "cell_type": "markdown",
   "metadata": {},
   "source": [
    "We can convert pred_labels to their max probabilites"
   ]
  },
  {
   "cell_type": "code",
   "execution_count": 163,
   "metadata": {
    "collapsed": true
   },
   "outputs": [],
   "source": [
    "pred_classes = []\n",
    "for i in range(len(pred_labels)):\n",
    "    max_prob = pred_labels[i].argmax()\n",
    "    pred_classes.append(max_prob)\n",
    "pred_classes = np.array(pred_classes)"
   ]
  },
  {
   "cell_type": "code",
   "execution_count": 169,
   "metadata": {},
   "outputs": [
    {
     "data": {
      "text/plain": [
       "array([9, 2, 1, ..., 8, 1, 5])"
      ]
     },
     "execution_count": 169,
     "metadata": {},
     "output_type": "execute_result"
    }
   ],
   "source": [
    "pred_classes"
   ]
  },
  {
   "cell_type": "code",
   "execution_count": 154,
   "metadata": {},
   "outputs": [
    {
     "data": {
      "text/plain": [
       "array([9, 2, 1, ..., 8, 1, 5], dtype=uint8)"
      ]
     },
     "execution_count": 154,
     "metadata": {},
     "output_type": "execute_result"
    }
   ],
   "source": [
    "test_y"
   ]
  },
  {
   "cell_type": "code",
   "execution_count": 171,
   "metadata": {},
   "outputs": [
    {
     "data": {
      "text/plain": [
       "array([ True,  True,  True, ...,  True,  True,  True])"
      ]
     },
     "execution_count": 171,
     "metadata": {},
     "output_type": "execute_result"
    }
   ],
   "source": [
    "pred_classes == test_y"
   ]
  },
  {
   "cell_type": "code",
   "execution_count": 193,
   "metadata": {
    "collapsed": true
   },
   "outputs": [],
   "source": [
    "# Seeing how many were correctly identified\n",
    "match = pred_classes == test_y\n",
    "correct_labels =len(match[match==True])\n",
    "incorrect_labels = len(match[match==False])"
   ]
  },
  {
   "cell_type": "code",
   "execution_count": 194,
   "metadata": {},
   "outputs": [
    {
     "name": "stdout",
     "output_type": "stream",
     "text": [
      "correctly identified labels 9179\n",
      "incorrectly identified labels 821\n"
     ]
    }
   ],
   "source": [
    "print('correctly identified labels', correct_labels)\n",
    "print('incorrectly identified labels', incorrect_labels)"
   ]
  },
  {
   "cell_type": "code",
   "execution_count": 215,
   "metadata": {},
   "outputs": [
    {
     "name": "stdout",
     "output_type": "stream",
     "text": [
      "No of correct labels 9179\n"
     ]
    },
    {
     "data": {
      "image/png": "[encoded data removed]",
      "text/plain": [
       "<matplotlib.figure.Figure at 0x181d36e550>"
      ]
     },
     "metadata": {},
     "output_type": "display_data"
    }
   ],
   "source": [
    "correct = np.where(pred_classes==test_y)[0]\n",
    "print (\"No of correct labels\", len(correct))\n",
    "for i, correct in enumerate(correct[:9]):\n",
    "    plt.subplot(3,3,i+1)\n",
    "    plt.imshow(test_X[correct].reshape(28,28), cmap='gray', interpolation='none')\n",
    "    plt.title(\"Predicted {}, Class {}\".format(pred_classes[correct], test_y[correct]))\n",
    "    plt.tight_layout()"
   ]
  },
  {
   "cell_type": "code",
   "execution_count": 216,
   "metadata": {},
   "outputs": [
    {
     "name": "stdout",
     "output_type": "stream",
     "text": [
      "No of incorrect labels 821\n"
     ]
    },
    {
     "data": {
      "image/png": "[encoded data removed]",
      "text/plain": [
       "<matplotlib.figure.Figure at 0x181c7f4400>"
      ]
     },
     "metadata": {},
     "output_type": "display_data"
    }
   ],
   "source": [
    "incorrect = np.where(pred_classes!=test_y)[0]\n",
    "print (\"No of incorrect labels\", len(incorrect))\n",
    "for i, incorrect in enumerate(incorrect[:9]):\n",
    "    plt.subplot(3,3,i+1)\n",
    "    plt.imshow(test_X[incorrect].reshape(28,28), cmap='gray', interpolation='none')\n",
    "    plt.title(\"Predicted {}, Class {}\".format(pred_classes[incorrect], test_y[incorrect]))\n",
    "    plt.tight_layout()"
   ]
  },
  {
   "cell_type": "markdown",
   "metadata": {},
   "source": [
    "#### End of code"
   ]
  }
 ],
 "metadata": {
  "kernelspec": {
   "display_name": "Python 3",
   "language": "python",
   "name": "python3"
  },
  "language_info": {
   "codemirror_mode": {
    "name": "ipython",
    "version": 3
   },
   "file_extension": ".py",
   "mimetype": "text/x-python",
   "name": "python",
   "nbconvert_exporter": "python",
   "pygments_lexer": "ipython3",
   "version": "3.6.3"
  }
 },
 "nbformat": 4,
 "nbformat_minor": 2
}
