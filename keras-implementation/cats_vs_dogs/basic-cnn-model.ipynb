{
 "cells": [
  {
   "cell_type": "markdown",
   "metadata": {},
   "source": [
    "### Network creation for CATS v/s DOGS\n",
    "#### General Structure\n",
    "- Image size: 150 x 150\n",
    "- There will be a stack of alternated Conv2D with relu activation and MaxPooling2D layers, then a Flatten layer and 2 Dense layers in the end.\n",
    "- The depth of the feature increases from 32 to 128 while the size of feature map (height, width) decreases from 150 x 150 to 7 x 7\n",
    "- Since it is a binary classification (cat or dog), last layer will be a single unit (Dense, size=1) and a sigmoid activation"
   ]
  },
  {
   "cell_type": "code",
   "execution_count": 7,
   "metadata": {},
   "outputs": [],
   "source": [
    "# Simple convnet for cats v/s dogs classification\n",
    "from keras import layers\n",
    "from keras import models\n",
    "from keras import backend as K\n",
    "from keras import optimizers\n",
    "import numpy as np\n",
    "import os"
   ]
  },
  {
   "cell_type": "code",
   "execution_count": 2,
   "metadata": {
    "collapsed": true
   },
   "outputs": [],
   "source": [
    "# Network Topology\n",
    "model = models.Sequential()\n",
    "model.add(layers.Conv2D(32, (3,3), activation='relu', input_shape=(150,150,3)))\n",
    "model.add(layers.MaxPooling2D((2,2)))\n",
    "model.add(layers.Conv2D(64, (3,3), activation='relu'))\n",
    "model.add(layers.MaxPooling2D((2,2)))\n",
    "model.add(layers.Conv2D(128, (3,3), activation='relu'))\n",
    "model.add(layers.MaxPooling2D((2,2)))\n",
    "model.add(layers.Conv2D(128, (3,3), activation='relu'))\n",
    "model.add(layers.MaxPooling2D((2,2)))\n",
    "model.add(layers.Flatten())\n",
    "model.add(layers.Dense(512, activation='relu'))\n",
    "model.add(layers.Dense(1, activation='sigmoid'))"
   ]
  },
  {
   "cell_type": "code",
   "execution_count": 3,
   "metadata": {},
   "outputs": [
    {
     "name": "stdout",
     "output_type": "stream",
     "text": [
      "_________________________________________________________________\n",
      "Layer (type)                 Output Shape              Param #   \n",
      "=================================================================\n",
      "conv2d_1 (Conv2D)            (None, 148, 148, 32)      896       \n",
      "_________________________________________________________________\n",
      "max_pooling2d_1 (MaxPooling2 (None, 74, 74, 32)        0         \n",
      "_________________________________________________________________\n",
      "conv2d_2 (Conv2D)            (None, 72, 72, 64)        18496     \n",
      "_________________________________________________________________\n",
      "max_pooling2d_2 (MaxPooling2 (None, 36, 36, 64)        0         \n",
      "_________________________________________________________________\n",
      "conv2d_3 (Conv2D)            (None, 34, 34, 128)       73856     \n",
      "_________________________________________________________________\n",
      "max_pooling2d_3 (MaxPooling2 (None, 17, 17, 128)       0         \n",
      "_________________________________________________________________\n",
      "conv2d_4 (Conv2D)            (None, 15, 15, 128)       147584    \n",
      "_________________________________________________________________\n",
      "max_pooling2d_4 (MaxPooling2 (None, 7, 7, 128)         0         \n",
      "_________________________________________________________________\n",
      "flatten_1 (Flatten)          (None, 6272)              0         \n",
      "_________________________________________________________________\n",
      "dense_1 (Dense)              (None, 512)               3211776   \n",
      "_________________________________________________________________\n",
      "dense_2 (Dense)              (None, 1)                 513       \n",
      "=================================================================\n",
      "Total params: 3,453,121\n",
      "Trainable params: 3,453,121\n",
      "Non-trainable params: 0\n",
      "_________________________________________________________________\n"
     ]
    }
   ],
   "source": [
    "model.summary()"
   ]
  },
  {
   "cell_type": "code",
   "execution_count": 15,
   "metadata": {},
   "outputs": [],
   "source": [
    "model.compile(loss='binary_crossentropy', \n",
    "              optimizer=optimizers.RMSprop(lr=1e-4), \n",
    "              metrics=['accuracy'])"
   ]
  },
  {
   "cell_type": "markdown",
   "metadata": {
    "collapsed": true
   },
   "source": [
    "#### Data preprocessing\n",
    "We format the tensors before feeding them into the neural network\n",
    "Steps to accomplish here:\n",
    "* Read the file\n",
    "* Conver it into floating point tensors\n",
    "* Rescale the pixel values between 0 and 255\n",
    "\n",
    "To achieve all this, we will keras ImageDataGenerator pipeline"
   ]
  },
  {
   "cell_type": "code",
   "execution_count": 5,
   "metadata": {
    "collapsed": true
   },
   "outputs": [],
   "source": [
    "from keras.preprocessing.image import ImageDataGenerator"
   ]
  },
  {
   "cell_type": "code",
   "execution_count": 8,
   "metadata": {},
   "outputs": [],
   "source": [
    "# Retrieving all the paths\n",
    "full_dataset_dir = os.path.join(os.getcwd(), 'kaggle_full_dataset')\n",
    "base_dataset_dir = os.path.join(os.getcwd(), 'base_dataset')\n",
    "train_dir = os.path.join(base_dataset_dir, 'train')\n",
    "validation_dir = os.path.join(base_dataset_dir, 'validation')\n",
    "test_dir = os.path.join(base_dataset_dir, 'test')\n",
    "train_cats_dir = os.path.join(train_dir, 'cats')\n",
    "train_dogs_dir = os.path.join(train_dir, 'dogs')\n",
    "validation_cats_dir = os.path.join(validation_dir, 'cats')\n",
    "validation_dogs_dir = os.path.join(validation_dir, 'dogs')\n",
    "test_cats_dir = os.path.join(test_dir, 'cats')\n",
    "test_dogs_dir = os.path.join(test_dir, 'dogs')"
   ]
  },
  {
   "cell_type": "code",
   "execution_count": 9,
   "metadata": {},
   "outputs": [
    {
     "name": "stdout",
     "output_type": "stream",
     "text": [
      "Found 2000 images belonging to 2 classes.\n",
      "Found 1000 images belonging to 2 classes.\n"
     ]
    }
   ],
   "source": [
    "# Creating the image data generator object for both training and validation.\n",
    "train_datagen = ImageDataGenerator(rescale=1./255)\n",
    "\n",
    "test_datagen = ImageDataGenerator(rescale=1./255)\n",
    "train_generator = train_datagen.flow_from_directory(train_dir, \n",
    "                                                    target_size=(150, 150), \n",
    "                                                    batch_size=20, \n",
    "                                                    class_mode='binary')\n",
    "validation_generator = test_datagen.flow_from_directory(validation_dir, \n",
    "                                                    target_size=(150, 150), \n",
    "                                                    batch_size=20, \n",
    "                                                    class_mode='binary')"
   ]
  },
  {
   "cell_type": "code",
   "execution_count": 16,
   "metadata": {},
   "outputs": [
    {
     "name": "stdout",
     "output_type": "stream",
     "text": [
      "Epoch 1/30\n",
      "100/100 [==============================] - 89s 891ms/step - loss: 0.6897 - acc: 0.5325 - val_loss: 0.6850 - val_acc: 0.5080\n",
      "Epoch 2/30\n",
      "100/100 [==============================] - 88s 883ms/step - loss: 0.6559 - acc: 0.6115 - val_loss: 0.6484 - val_acc: 0.6180\n",
      "Epoch 3/30\n",
      "100/100 [==============================] - 88s 885ms/step - loss: 0.6155 - acc: 0.6580 - val_loss: 0.6261 - val_acc: 0.6370\n",
      "Epoch 4/30\n",
      "100/100 [==============================] - 89s 887ms/step - loss: 0.5757 - acc: 0.6960 - val_loss: 0.6212 - val_acc: 0.6340\n",
      "Epoch 5/30\n",
      "100/100 [==============================] - 88s 884ms/step - loss: 0.5398 - acc: 0.7325 - val_loss: 0.5820 - val_acc: 0.6830\n",
      "Epoch 6/30\n",
      "100/100 [==============================] - 88s 883ms/step - loss: 0.5053 - acc: 0.7505 - val_loss: 0.7064 - val_acc: 0.6380\n",
      "Epoch 7/30\n",
      "100/100 [==============================] - 88s 885ms/step - loss: 0.4854 - acc: 0.7660 - val_loss: 0.5833 - val_acc: 0.6890\n",
      "Epoch 8/30\n",
      "100/100 [==============================] - 89s 886ms/step - loss: 0.4532 - acc: 0.7835 - val_loss: 0.5653 - val_acc: 0.7120\n",
      "Epoch 9/30\n",
      "100/100 [==============================] - 88s 885ms/step - loss: 0.4275 - acc: 0.8080 - val_loss: 0.5791 - val_acc: 0.6960\n",
      "Epoch 10/30\n",
      "100/100 [==============================] - 88s 885ms/step - loss: 0.4014 - acc: 0.8170 - val_loss: 0.6216 - val_acc: 0.6900\n",
      "Epoch 11/30\n",
      "100/100 [==============================] - 89s 887ms/step - loss: 0.3752 - acc: 0.8365 - val_loss: 0.5617 - val_acc: 0.7230\n",
      "Epoch 12/30\n",
      "100/100 [==============================] - 89s 887ms/step - loss: 0.3482 - acc: 0.8535 - val_loss: 0.6862 - val_acc: 0.6860\n",
      "Epoch 13/30\n",
      "100/100 [==============================] - 89s 885ms/step - loss: 0.3269 - acc: 0.8575 - val_loss: 0.6100 - val_acc: 0.7010\n",
      "Epoch 14/30\n",
      "100/100 [==============================] - 88s 884ms/step - loss: 0.3077 - acc: 0.8650 - val_loss: 0.6144 - val_acc: 0.7150\n",
      "Epoch 15/30\n",
      "100/100 [==============================] - 89s 887ms/step - loss: 0.2758 - acc: 0.8845 - val_loss: 0.6189 - val_acc: 0.7320\n",
      "Epoch 16/30\n",
      "100/100 [==============================] - 88s 885ms/step - loss: 0.2622 - acc: 0.8960 - val_loss: 0.6173 - val_acc: 0.7100\n",
      "Epoch 17/30\n",
      "100/100 [==============================] - 89s 886ms/step - loss: 0.2356 - acc: 0.9070 - val_loss: 0.6610 - val_acc: 0.7200\n",
      "Epoch 18/30\n",
      "100/100 [==============================] - 89s 885ms/step - loss: 0.2165 - acc: 0.9145 - val_loss: 0.7156 - val_acc: 0.7180\n",
      "Epoch 19/30\n",
      "100/100 [==============================] - 89s 886ms/step - loss: 0.1939 - acc: 0.9245 - val_loss: 0.6802 - val_acc: 0.7200\n",
      "Epoch 20/30\n",
      "100/100 [==============================] - 89s 886ms/step - loss: 0.1784 - acc: 0.9290 - val_loss: 0.7498 - val_acc: 0.7230\n",
      "Epoch 21/30\n",
      "100/100 [==============================] - 89s 887ms/step - loss: 0.1606 - acc: 0.9445 - val_loss: 0.7224 - val_acc: 0.7190\n",
      "Epoch 22/30\n",
      "100/100 [==============================] - 89s 885ms/step - loss: 0.1382 - acc: 0.9515 - val_loss: 0.7743 - val_acc: 0.7130\n",
      "Epoch 23/30\n",
      "100/100 [==============================] - 89s 887ms/step - loss: 0.1258 - acc: 0.9570 - val_loss: 0.7604 - val_acc: 0.7270\n",
      "Epoch 24/30\n",
      "100/100 [==============================] - 89s 886ms/step - loss: 0.1019 - acc: 0.9690 - val_loss: 0.8659 - val_acc: 0.7020\n",
      "Epoch 25/30\n",
      "100/100 [==============================] - 89s 887ms/step - loss: 0.0898 - acc: 0.9715 - val_loss: 1.0130 - val_acc: 0.7120\n",
      "Epoch 26/30\n",
      "100/100 [==============================] - 89s 887ms/step - loss: 0.0838 - acc: 0.9705 - val_loss: 0.8721 - val_acc: 0.7250\n",
      "Epoch 27/30\n",
      "100/100 [==============================] - 89s 887ms/step - loss: 0.0684 - acc: 0.9820 - val_loss: 0.9323 - val_acc: 0.7230\n",
      "Epoch 28/30\n",
      "100/100 [==============================] - 89s 886ms/step - loss: 0.0562 - acc: 0.9805 - val_loss: 1.1057 - val_acc: 0.7240\n",
      "Epoch 29/30\n",
      "100/100 [==============================] - 89s 887ms/step - loss: 0.0513 - acc: 0.9865 - val_loss: 1.0020 - val_acc: 0.7250\n",
      "Epoch 30/30\n",
      "100/100 [==============================] - 89s 887ms/step - loss: 0.0389 - acc: 0.9910 - val_loss: 1.1264 - val_acc: 0.7190\n"
     ]
    },
    {
     "data": {
      "text/plain": [
       "<keras.callbacks.History at 0x7feb6e1220f0>"
      ]
     },
     "execution_count": 16,
     "metadata": {},
     "output_type": "execute_result"
    }
   ],
   "source": [
    "history = model.fit_generator(\n",
    "        train_generator,\n",
    "        steps_per_epoch=100,\n",
    "        epochs=30,\n",
    "        validation_data=validation_generator,\n",
    "        validation_steps=50)"
   ]
  },
  {
   "cell_type": "code",
   "execution_count": 27,
   "metadata": {},
   "outputs": [],
   "source": [
    "# Saving the model\n",
    "model.save('cats_dogs_simple.h5')"
   ]
  },
  {
   "cell_type": "code",
   "execution_count": 21,
   "metadata": {
    "collapsed": true
   },
   "outputs": [],
   "source": [
    "import matplotlib.pyplot as plt"
   ]
  },
  {
   "cell_type": "code",
   "execution_count": 22,
   "metadata": {},
   "outputs": [
    {
     "data": {
      "image/png": "[encoded data removed]",
      "text/plain": [
       "<matplotlib.figure.Figure at 0x7feb545d8cc0>"
      ]
     },
     "metadata": {},
     "output_type": "display_data"
    }
   ],
   "source": [
    "train_acc = history.history['acc']\n",
    "val_acc = history.history['val_acc']\n",
    "train_loss = history.history['loss']\n",
    "val_loss = history.history['val_loss']\n",
    "epochs = range(1, len(train_acc) + 1)\n",
    "\n",
    "plt.plot(epochs, train_acc, label='Training Accuracy')\n",
    "plt.plot(epochs, val_acc, label='Validation Accuracy')\n",
    "plt.title('Training and validation accuracy')\n",
    "plt.show()"
   ]
  },
  {
   "cell_type": "code",
   "execution_count": 24,
   "metadata": {},
   "outputs": [
    {
     "data": {
      "image/png": "[encoded data removed]",
      "text/plain": [
       "<matplotlib.figure.Figure at 0x7feb545d8be0>"
      ]
     },
     "metadata": {},
     "output_type": "display_data"
    }
   ],
   "source": [
    "plt.plot(epochs, train_loss, label='Training Loss')\n",
    "plt.plot(epochs, val_loss, label='Validation Accuracy')\n",
    "plt.title('Training and validation loss')\n",
    "plt.show()"
   ]
  },
  {
   "cell_type": "markdown",
   "metadata": {},
   "source": [
    "ALERT!!!! OVERFITTING"
   ]
  },
  {
   "cell_type": "markdown",
   "metadata": {},
   "source": [
    "#### End of code"
   ]
  },
  {
   "cell_type": "code",
   "execution_count": null,
   "metadata": {
    "collapsed": true
   },
   "outputs": [],
   "source": []
  }
 ],
 "metadata": {
  "kernelspec": {
   "display_name": "Python 3",
   "language": "python",
   "name": "python3"
  },
  "language_info": {
   "codemirror_mode": {
    "name": "ipython",
    "version": 3
   },
   "file_extension": ".py",
   "mimetype": "text/x-python",
   "name": "python",
   "nbconvert_exporter": "python",
   "pygments_lexer": "ipython3",
   "version": "3.6.1"
  }
 },
 "nbformat": 4,
 "nbformat_minor": 2
}
